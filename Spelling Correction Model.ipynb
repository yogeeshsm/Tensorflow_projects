{
 "cells": [
  {
   "cell_type": "code",
   "execution_count": null,
   "id": "ec5facc4-6ec1-495d-8c06-32a43886e7f1",
   "metadata": {},
   "outputs": [],
   "source": []
  }
 ],
 "metadata": {
  "kernelspec": {
   "display_name": "",
   "name": ""
  },
  "language_info": {
   "name": ""
  }
 },
 "nbformat": 4,
 "nbformat_minor": 5
}
