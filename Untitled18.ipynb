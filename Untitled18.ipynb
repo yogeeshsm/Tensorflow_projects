{
  "nbformat": 4,
  "nbformat_minor": 0,
  "metadata": {
    "colab": {
      "provenance": [],
      "gpuType": "T4",
      "authorship_tag": "ABX9TyNOX/7gskuQs/coV6xCit4t",
      "include_colab_link": true
    },
    "kernelspec": {
      "name": "python3",
      "display_name": "Python 3"
    },
    "language_info": {
      "name": "python"
    },
    "accelerator": "GPU"
  },
  "cells": [
    {
      "cell_type": "markdown",
      "metadata": {
        "id": "view-in-github",
        "colab_type": "text"
      },
      "source": [
        "<a href=\"https://colab.research.google.com/github/yogeeshsm/Tensorflow_projects/blob/main/Untitled18.ipynb\" target=\"_parent\"><img src=\"https://colab.research.google.com/assets/colab-badge.svg\" alt=\"Open In Colab\"/></a>"
      ]
    },
    {
      "cell_type": "code",
      "execution_count": 1,
      "metadata": {
        "colab": {
          "base_uri": "https://localhost:8080/"
        },
        "id": "kB3eD_HLjv9c",
        "outputId": "2e2e48f2-dd8e-4c9c-a401-58d03750648b"
      },
      "outputs": [
        {
          "output_type": "stream",
          "name": "stderr",
          "text": [
            "/usr/local/lib/python3.12/dist-packages/keras/src/layers/convolutional/base_conv.py:113: UserWarning: Do not pass an `input_shape`/`input_dim` argument to a layer. When using Sequential models, prefer using an `Input(shape)` object as the first layer in the model instead.\n",
            "  super().__init__(activity_regularizer=activity_regularizer, **kwargs)\n"
          ]
        },
        {
          "output_type": "stream",
          "name": "stdout",
          "text": [
            "Epoch 1/10\n",
            "\u001b[1m3/3\u001b[0m \u001b[32m━━━━━━━━━━━━━━━━━━━━\u001b[0m\u001b[37m\u001b[0m \u001b[1m5s\u001b[0m 420ms/step - accuracy: 0.5391 - loss: 0.9614 - val_accuracy: 0.0417 - val_loss: 4.3948\n",
            "Epoch 2/10\n",
            "\u001b[1m3/3\u001b[0m \u001b[32m━━━━━━━━━━━━━━━━━━━━\u001b[0m\u001b[37m\u001b[0m \u001b[1m1s\u001b[0m 38ms/step - accuracy: 0.6927 - loss: 0.6016 - val_accuracy: 0.1667 - val_loss: 6.4108\n",
            "Epoch 3/10\n",
            "\u001b[1m3/3\u001b[0m \u001b[32m━━━━━━━━━━━━━━━━━━━━\u001b[0m\u001b[37m\u001b[0m \u001b[1m0s\u001b[0m 57ms/step - accuracy: 0.6120 - loss: 0.6095 - val_accuracy: 0.0417 - val_loss: 7.2134\n",
            "Epoch 4/10\n",
            "\u001b[1m3/3\u001b[0m \u001b[32m━━━━━━━━━━━━━━━━━━━━\u001b[0m\u001b[37m\u001b[0m \u001b[1m0s\u001b[0m 43ms/step - accuracy: 0.6901 - loss: 0.5666 - val_accuracy: 0.0417 - val_loss: 7.9542\n",
            "Epoch 5/10\n",
            "\u001b[1m3/3\u001b[0m \u001b[32m━━━━━━━━━━━━━━━━━━━━\u001b[0m\u001b[37m\u001b[0m \u001b[1m0s\u001b[0m 57ms/step - accuracy: 0.6615 - loss: 0.5326 - val_accuracy: 0.0417 - val_loss: 8.1952\n",
            "Epoch 6/10\n",
            "\u001b[1m3/3\u001b[0m \u001b[32m━━━━━━━━━━━━━━━━━━━━\u001b[0m\u001b[37m\u001b[0m \u001b[1m0s\u001b[0m 43ms/step - accuracy: 0.6979 - loss: 0.5375 - val_accuracy: 0.0417 - val_loss: 8.6842\n",
            "Epoch 7/10\n",
            "\u001b[1m3/3\u001b[0m \u001b[32m━━━━━━━━━━━━━━━━━━━━\u001b[0m\u001b[37m\u001b[0m \u001b[1m0s\u001b[0m 40ms/step - accuracy: 0.6784 - loss: 0.5353 - val_accuracy: 0.0417 - val_loss: 9.0057\n",
            "Epoch 8/10\n",
            "\u001b[1m3/3\u001b[0m \u001b[32m━━━━━━━━━━━━━━━━━━━━\u001b[0m\u001b[37m\u001b[0m \u001b[1m0s\u001b[0m 44ms/step - accuracy: 0.6914 - loss: 0.5196 - val_accuracy: 0.0417 - val_loss: 8.9429\n",
            "Epoch 9/10\n",
            "\u001b[1m3/3\u001b[0m \u001b[32m━━━━━━━━━━━━━━━━━━━━\u001b[0m\u001b[37m\u001b[0m \u001b[1m0s\u001b[0m 29ms/step - accuracy: 0.6419 - loss: 0.5297 - val_accuracy: 0.0417 - val_loss: 9.0750\n",
            "Epoch 10/10\n",
            "\u001b[1m3/3\u001b[0m \u001b[32m━━━━━━━━━━━━━━━━━━━━\u001b[0m\u001b[37m\u001b[0m \u001b[1m0s\u001b[0m 29ms/step - accuracy: 0.7018 - loss: 0.4849 - val_accuracy: 0.0417 - val_loss: 9.2831\n",
            "🎵 Music Genre Classification Accuracy: 0.00\n"
          ]
        }
      ],
      "source": [
        "import tensorflow as tf\n",
        "import numpy as np\n",
        "import librosa\n",
        "import random\n",
        "\n",
        "# Simulate MFCC features for 3 genres\n",
        "def generate_genre_mfccs(genres=3, samples_per_genre=50, max_len=130, n_mfcc=20):\n",
        "    X, y = [], []\n",
        "    for genre in range(genres):\n",
        "        for _ in range(samples_per_genre):\n",
        "            freq = random.uniform(100, 800) if genre == 0 else random.uniform(400, 1200)\n",
        "            signal = np.sin(np.linspace(0, 2 * np.pi * freq, 22050))  # Simulated genre tones\n",
        "            mfcc = librosa.feature.mfcc(y=signal.astype(np.float32), sr=22050, n_mfcc=n_mfcc)\n",
        "            mfcc = mfcc.T[:max_len]\n",
        "            if mfcc.shape[0] < max_len:\n",
        "                pad = max_len - mfcc.shape[0]\n",
        "                mfcc = np.pad(mfcc, ((0, pad), (0, 0)), mode='constant')\n",
        "            X.append(mfcc)\n",
        "            y.append(genre)\n",
        "    return np.array(X), tf.keras.utils.to_categorical(y, num_classes=genres)\n",
        "\n",
        "# Generate dataset\n",
        "X, y = generate_genre_mfccs()\n",
        "X = X[..., np.newaxis]  # Add channel dimension for CNN\n",
        "\n",
        "# Train/test split\n",
        "split = int(0.8 * len(X))\n",
        "X_train, X_test = X[:split], X[split:]\n",
        "y_train, y_test = y[:split], y[split:]\n",
        "\n",
        "# Build CNN model\n",
        "model = tf.keras.Sequential([\n",
        "    tf.keras.layers.Conv2D(32, (3, 3), activation='relu', input_shape=X.shape[1:]),\n",
        "    tf.keras.layers.MaxPooling2D((2, 2)),\n",
        "    tf.keras.layers.Conv2D(64, (3, 3), activation='relu'),\n",
        "    tf.keras.layers.GlobalAveragePooling2D(),\n",
        "    tf.keras.layers.Dense(64, activation='relu'),\n",
        "    tf.keras.layers.Dense(y.shape[1], activation='softmax')\n",
        "])\n",
        "\n",
        "# Compile and train\n",
        "model.compile(optimizer='adam', loss='categorical_crossentropy', metrics=['accuracy'])\n",
        "model.fit(X_train, y_train, epochs=10, validation_split=0.2)\n",
        "\n",
        "# Evaluate model\n",
        "loss, acc = model.evaluate(X_test, y_test, verbose=0)\n",
        "print(f\"🎵 Music Genre Classification Accuracy: {acc:.2f}\")\n"
      ]
    }
  ]
}