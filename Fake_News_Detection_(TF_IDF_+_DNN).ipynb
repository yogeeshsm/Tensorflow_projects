{
  "nbformat": 4,
  "nbformat_minor": 0,
  "metadata": {
    "colab": {
      "provenance": [],
      "authorship_tag": "ABX9TyMrj1Gcb2wb4l3bBzjIqvp4",
      "include_colab_link": true
    },
    "kernelspec": {
      "name": "python3",
      "display_name": "Python 3"
    },
    "language_info": {
      "name": "python"
    }
  },
  "cells": [
    {
      "cell_type": "markdown",
      "metadata": {
        "id": "view-in-github",
        "colab_type": "text"
      },
      "source": [
        "<a href=\"https://colab.research.google.com/github/yogeeshsm/Tensorflow_projects/blob/main/Fake_News_Detection_(TF_IDF_%2B_DNN).ipynb\" target=\"_parent\"><img src=\"https://colab.research.google.com/assets/colab-badge.svg\" alt=\"Open In Colab\"/></a>"
      ]
    },
    {
      "cell_type": "code",
      "source": [
        "import tensorflow as tf\n",
        "import numpy as np\n",
        "from sklearn.feature_extraction.text import TfidfVectorizer\n",
        "from sklearn.model_selection import train_test_split\n",
        "\n",
        "# Sample dataset (headlines + labels)\n",
        "texts = [\n",
        "    \"Donald Trump meets with the president of Mexico\",\n",
        "    \"NASA announces the discovery of new exoplanets\",\n",
        "    \"Breaking: Aliens found living in New York subway\",\n",
        "    \"Obama caught hiding alien technology\",\n",
        "    \"Scientists develop cure for cancer\",\n",
        "    \"Elvis Presley spotted in Times Square\"\n",
        "]\n",
        "labels = [0, 0, 1, 1, 0, 1]  # 0 = real, 1 = fake\n",
        "\n",
        "# Split data\n",
        "X_train_texts, X_test_texts, y_train, y_test = train_test_split(texts, labels, test_size=0.3, random_state=42)\n",
        "\n",
        "# Vectorize text using TF-IDF\n",
        "vectorizer = TfidfVectorizer()\n",
        "X_train = vectorizer.fit_transform(X_train_texts).toarray()\n",
        "X_test = vectorizer.transform(X_test_texts).toarray()\n",
        "\n",
        "# Convert numpy arrays to TensorFlow Tensors\n",
        "X_train = tf.convert_to_tensor(X_train, dtype=tf.float32)\n",
        "X_test = tf.convert_to_tensor(X_test, dtype=tf.float32)\n",
        "y_train = tf.convert_to_tensor(y_train, dtype=tf.float32)\n",
        "y_test = tf.convert_to_tensor(y_test, dtype=tf.float32)\n",
        "\n",
        "# Build DNN model\n",
        "model = tf.keras.Sequential([\n",
        "    tf.keras.layers.Input(shape=(X_train.shape[1],)),\n",
        "    tf.keras.layers.Dense(64, activation='relu'),\n",
        "    tf.keras.layers.Dense(32, activation='relu'),\n",
        "    tf.keras.layers.Dense(1, activation='sigmoid')  # Output for binary classification\n",
        "])\n",
        "\n",
        "# Compile and train\n",
        "model.compile(optimizer='adam', loss='binary_crossentropy', metrics=['accuracy'])\n",
        "model.fit(X_train, y_train, epochs=10, verbose=0)\n",
        "\n",
        "# Evaluate\n",
        "loss, acc = model.evaluate(X_test, y_test, verbose=0)\n",
        "print(f\"Test Accuracy: {acc:.2f}\")\n",
        "\n",
        "# Predict on a new headline\n",
        "headline = [\"New study reveals link between exercise and happiness\"]\n",
        "headline_vec = vectorizer.transform(headline).toarray()\n",
        "# Convert the new headline vector to a TensorFlow Tensor for prediction\n",
        "headline_vec = tf.convert_to_tensor(headline_vec, dtype=tf.float32)\n",
        "pred = model.predict(headline_vec)[0][0]\n",
        "print(\"Prediction:\", \"Fake\" if pred > 0.5 else \"Real\")"
      ],
      "metadata": {
        "colab": {
          "base_uri": "https://localhost:8080/"
        },
        "id": "g_xQivc3Izq_",
        "outputId": "98c9cc15-bb4d-402f-d4c9-07099133d8fd"
      },
      "execution_count": 10,
      "outputs": [
        {
          "output_type": "stream",
          "name": "stdout",
          "text": [
            "Test Accuracy: 0.00\n",
            "\u001b[1m1/1\u001b[0m \u001b[32m━━━━━━━━━━━━━━━━━━━━\u001b[0m\u001b[37m\u001b[0m \u001b[1m0s\u001b[0m 64ms/step\n",
            "Prediction: Fake\n"
          ]
        }
      ]
    }
  ]
}